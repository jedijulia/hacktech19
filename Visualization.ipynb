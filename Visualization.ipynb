{
 "cells": [
  {
   "cell_type": "markdown",
   "metadata": {},
   "source": [
    "# Word Cloud"
   ]
  },
  {
   "cell_type": "code",
   "execution_count": 6,
   "metadata": {},
   "outputs": [],
   "source": [
    "from nltk import word_tokenize, WordNetLemmatizer\n",
    "from nltk.corpus import stopwords\n",
    "\n",
    "def preprocess(text):\n",
    "    lemmatizer = WordNetLemmatizer()\n",
    "    stop_words = stopwords.words('english')\n",
    "    words = [lemmatizer.lemmatize(word.lower()) for word in word_tokenize(text)]\n",
    "    return ' '.join(words)\n",
    "\n",
    "import csv\n",
    "\n",
    "filenames = ['good.csv', 'bag_dataset.csv', 'bottle_dataset.csv']\n",
    "\n",
    "good_data = []\n",
    "bad_data = []\n",
    "for filename in filenames:\n",
    "    with open(filename, 'r') as csv_file:\n",
    "        csv_reader = csv.DictReader(csv_file)\n",
    "        fields = ['material']\n",
    "        # combine text from fields\n",
    "        for row in csv_reader:\n",
    "            text = ''\n",
    "            for field in fields:\n",
    "                text += row[field]\n",
    "            text = preprocess(text.decode('utf8'))\n",
    "            if row['target'] == '1':\n",
    "                good_data.append(text.encode(\"utf-8\"))\n",
    "            else:\n",
    "                bad_data.append(text.encode(\"utf-8\"))\n",
    "\n",
    "with open('good_data.txt', 'w') as good_file:\n",
    "    for good in good_data:\n",
    "        good_file.write(good)\n",
    "        \n",
    "with open('bad_data.txt', 'w') as bad_file:\n",
    "    for bad in bad_data:\n",
    "        bad_file.write(bad)"
   ]
  },
  {
   "cell_type": "code",
   "execution_count": 10,
   "metadata": {},
   "outputs": [
    {
     "name": "stdout",
     "output_type": "stream",
     "text": [
      "['nylon', 'nylon', 'nylon', 'nylon', 'nylon', 'nylon', 'nylon', 'nylon', 'nylon', 'nylon', 'nylon', 'nylon', 'nylon', 'nylon', 'nylon', 'nylon', 'nylon', 'nylon', 'nylon', 'nylon', 'nylon', 'nylon', 'nylon', 'nylon', 'nylon', 'nylon', 'nylon', 'nylon', 'nylon', 'nylon', 'nylon', 'nylon', 'nylon', 'nylon', 'nylon', 'nylon', 'nylon', 'nylon', 'nylon', 'nylon', 'nylon', 'nylon', 'nylon', 'nylon', 'nylon', 'nylon', 'nylon', 'nylon', 'nylon', 'nylon', 'nylon', 'nylon', 'nylon', 'nylon', 'nylon', 'nylon', 'nylon', 'nylon', 'nylon', 'nylon', 'nylon', 'nylon', 'nylon', 'nylon', 'nylon', 'nylon', 'nylon', 'nylon', 'nylon', 'nylon', 'nylon', 'nylon', 'nylon', 'nylon', 'nylon', 'nylon', 'nylon', 'nylon', 'nylon', 'nylon', 'nylon', 'nylon', 'nylon', 'nylon', 'nylon', 'nylon', 'nylon', 'nylon', 'nylon', 'nylon', 'nylon', 'nylon', 'nylon', 'nylon', 'nylon', 'nylon', 'nylon', 'nylon', 'nylon', 'nylon', 'resin', 'resin', 'resin', 'resin', 'resin', 'resin', 'resin', 'resin', 'resin', 'resin', 'resin', 'resin', 'resin', 'resin', 'resin', 'resin', 'resin', 'resin', 'resin', 'resin', 'resin', 'resin', 'resin', 'resin', 'resin', 'resin', 'resin', 'resin', 'resin', 'resin', 'resin', 'resin', 'resin', 'resin', 'resin', 'resin', 'resin', 'resin', 'resin', 'resin', 'resin', 'resin', 'resin', 'resin', 'resin', 'resin', 'resin', 'resin', 'resin', 'resin', 'resin', 'resin', 'resin', 'resin', 'resin', 'resin', 'resin', 'resin', 'resin', 'resin', 'resin', 'resin', 'resin', 'resin', 'resin', 'resin', 'resin', 'resin', 'resin', 'resin', 'resin', 'resin', 'resin', 'resin', 'resin', 'resin', 'resin', 'resin', 'resin', 'resin', 'resin', 'resin', 'resin', 'resin', 'resin', 'resin', 'resin', 'resin', 'resin', 'resin', 'resin', 'resin', 'resin', 'resin', 'resin', 'resin', 'resin', 'resin', 'resin', 'resin', 'plastic', 'plastic', 'plastic', 'plastic', 'plastic', 'plastic', 'plastic', 'plastic', 'plastic', 'plastic', 'plastic', 'plastic', 'plastic', 'plastic', 'plastic', 'plastic', 'plastic', 'plastic', 'plastic', 'plastic', 'plastic', 'plastic', 'plastic', 'plastic', 'plastic', 'plastic', 'plastic', 'plastic', 'plastic', 'plastic', 'plastic', 'plastic', 'plastic', 'plastic', 'plastic', 'plastic', 'plastic', 'plastic', 'plastic', 'plastic', 'plastic', 'plastic', 'plastic', 'plastic', 'plastic', 'plastic', 'plastic', 'plastic', 'plastic', 'plastic', 'plastic', 'plastic', 'plastic', 'plastic', 'plastic', 'plastic', 'plastic', 'plastic', 'plastic', 'plastic', 'plastic', 'plastic', 'plastic', 'plastic', 'plastic', 'plastic', 'plastic', 'plastic', 'plastic', 'plastic', 'plastic', 'plastic', 'plastic', 'plastic', 'plastic', 'plastic', 'plastic', 'plastic', 'plastic', 'plastic', 'plastic', 'plastic', 'plastic', 'plastic', 'plastic', 'plastic', 'plastic', 'plastic', 'plastic', 'plastic', 'plastic', 'plastic', 'plastic', 'plastic', 'plastic', 'plastic', 'plastic', 'plastic', 'plastic', 'plastic', 'glass', 'glass', 'glass', 'glass', 'glass', 'glass', 'glass', 'glass', 'glass', 'glass', 'glass', 'glass', 'glass', 'glass', 'glass', 'glass', 'glass', 'glass', 'glass', 'glass', 'glass', 'glass', 'glass', 'glass', 'glass', 'glass', 'glass', 'glass', 'glass', 'glass', 'glass', 'glass', 'glass', 'glass', 'glass', 'glass', 'glass', 'glass', 'glass', 'glass', 'glass', 'glass', 'glass', 'glass', 'glass', 'glass', 'glass', 'glass', 'glass', 'glass', 'glass', 'glass', 'glass', 'glass', 'glass', 'glass', 'glass', 'glass', 'glass', 'glass', 'glass', 'glass', 'glass', 'glass', 'glass', 'glass', 'glass', 'glass', 'glass', 'glass', 'glass', 'glass', 'glass', 'glass', 'glass', 'glass', 'glass', 'glass', 'glass', 'glass', 'glass', 'glass', 'glass', 'glass', 'glass', 'glass', 'glass', 'glass', 'glass', 'glass', 'glass', 'glass', 'glass', 'glass', 'glass', 'glass', 'glass', 'glass', 'glass', 'glass']\n"
     ]
    }
   ],
   "source": [
    "print bad_data[:400]"
   ]
  },
  {
   "cell_type": "code",
   "execution_count": null,
   "metadata": {},
   "outputs": [],
   "source": []
  }
 ],
 "metadata": {
  "kernelspec": {
   "display_name": "Python 2",
   "language": "python",
   "name": "python2"
  },
  "language_info": {
   "codemirror_mode": {
    "name": "ipython",
    "version": 2
   },
   "file_extension": ".py",
   "mimetype": "text/x-python",
   "name": "python",
   "nbconvert_exporter": "python",
   "pygments_lexer": "ipython2",
   "version": "2.7.15"
  }
 },
 "nbformat": 4,
 "nbformat_minor": 2
}
